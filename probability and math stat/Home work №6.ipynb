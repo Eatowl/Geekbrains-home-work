{
 "cells": [
  {
   "cell_type": "code",
   "execution_count": 1,
   "metadata": {},
   "outputs": [],
   "source": [
    "# №1 Даны значения величины заработной платы заемщиков банка (zp) и значения их \n",
    "# поведенческого кредитного скоринга (ks): zp = [35, 45, 190, 200, 40, 70, 54, 150, 120, 110],\n",
    "# ks = [401, 574, 874, 919, 459, 739, 653, 902, 746, 832].\n",
    "# Найдите ковариацию этих двух величин с помощью элементарных действий, а затем с помощью функции cov из numpy\n",
    "# Полученные значения должны быть равны."
   ]
  },
  {
   "cell_type": "code",
   "execution_count": 2,
   "metadata": {},
   "outputs": [
    {
     "data": {
      "text/plain": [
       "9157.839999999997"
      ]
     },
     "execution_count": 2,
     "metadata": {},
     "output_type": "execute_result"
    }
   ],
   "source": [
    "import numpy as np\n",
    "\n",
    "zp = np.array([35, 45, 190, 200, 40, 70, 54, 150, 120, 110])\n",
    "ks = np.array([401, 574, 874, 919, 459, 739, 653, 902, 746, 832])\n",
    "\n",
    "cov = np.mean(zp * ks) - np.mean(zp) * np.mean(ks)\n",
    "cov"
   ]
  },
  {
   "cell_type": "code",
   "execution_count": 3,
   "metadata": {},
   "outputs": [
    {
     "data": {
      "text/plain": [
       "array([[ 3494.64,  9157.84],\n",
       "       [ 9157.84, 30468.89]])"
      ]
     },
     "execution_count": 3,
     "metadata": {},
     "output_type": "execute_result"
    }
   ],
   "source": [
    "# numpy\n",
    "\n",
    "np.cov(zp, ks, ddof=0)"
   ]
  },
  {
   "cell_type": "code",
   "execution_count": 4,
   "metadata": {},
   "outputs": [
    {
     "data": {
      "text/plain": [
       "0.8874900920739158"
      ]
     },
     "execution_count": 4,
     "metadata": {},
     "output_type": "execute_result"
    }
   ],
   "source": [
    "# Найдите коэффициент корреляции Пирсона с помощью ковариации и среднеквадратичных отклонений двух признаков,\n",
    "# а затем с использованием функций из библиотек numpy и pandas.\n",
    "\n",
    "zp_o = np.std(zp)\n",
    "ks_o = np.std(ks)\n",
    "\n",
    "cov / (zp_o * ks_o)"
   ]
  },
  {
   "cell_type": "code",
   "execution_count": 5,
   "metadata": {},
   "outputs": [
    {
     "data": {
      "text/plain": [
       "array([[1.        , 0.88749009],\n",
       "       [0.88749009, 1.        ]])"
      ]
     },
     "execution_count": 5,
     "metadata": {},
     "output_type": "execute_result"
    }
   ],
   "source": [
    "# numpy\n",
    "\n",
    "np.corrcoef(zp, ks)"
   ]
  },
  {
   "cell_type": "code",
   "execution_count": 6,
   "metadata": {},
   "outputs": [],
   "source": [
    "# №2 Измерены значения IQ выборки студентов, обучающихся в местных технических вузах:\n",
    "# 131, 125, 115, 122, 131, 115, 107, 99, 125, 111.\n",
    "# Известно, что в генеральной совокупности IQ распределен нормально.\n",
    "# Найдите доверительный интервал для математического ожидания с надежностью 0.95."
   ]
  },
  {
   "cell_type": "code",
   "execution_count": 7,
   "metadata": {},
   "outputs": [
    {
     "data": {
      "text/plain": [
       "[110.55660776308164, 125.64339223691834]"
      ]
     },
     "execution_count": 7,
     "metadata": {},
     "output_type": "execute_result"
    }
   ],
   "source": [
    "iq = np.array([131, 125, 115, 122, 131, 115, 107, 99, 125, 111])\n",
    "n = len(iq)\n",
    "Tk = 2.262\n",
    "\n",
    "M = np.mean(iq)\n",
    "sig_n = np.sqrt(((iq - M)**2).sum() / (n-1))\n",
    "\n",
    "d1 = M + Tk * sig_n / np.sqrt(n)\n",
    "d2 = M - Tk * sig_n / np.sqrt(n)\n",
    "d_inter = [d2, d1]\n",
    "d_inter"
   ]
  },
  {
   "cell_type": "code",
   "execution_count": 8,
   "metadata": {},
   "outputs": [],
   "source": [
    "# №3 Известно, что рост футболистов в сборной распределен нормально\n",
    "# с дисперсией генеральной совокупности, равной 25 кв.см. Объем выборки равен 27,\n",
    "# среднее выборочное составляет 174.2. Найдите доверительный интервал для математического\n",
    "# ожидания с надежностью 0.95."
   ]
  },
  {
   "cell_type": "code",
   "execution_count": 9,
   "metadata": {},
   "outputs": [
    {
     "data": {
      "text/plain": [
       "[172.31398912064722, 176.08601087935276]"
      ]
     },
     "execution_count": 9,
     "metadata": {},
     "output_type": "execute_result"
    }
   ],
   "source": [
    "n = 27\n",
    "M = 174.2\n",
    "\n",
    "sig = np.sqrt(25)\n",
    "Zk = 1.96\n",
    "\n",
    "d1 = M + Zk * sig / np.sqrt(n)\n",
    "d2 = M - Zk * sig / np.sqrt(n)\n",
    "d_inter = [d2, d1]\n",
    "d_inter"
   ]
  },
  {
   "cell_type": "code",
   "execution_count": null,
   "metadata": {},
   "outputs": [],
   "source": []
  }
 ],
 "metadata": {
  "kernelspec": {
   "display_name": "Python 3",
   "language": "python",
   "name": "python3"
  },
  "language_info": {
   "codemirror_mode": {
    "name": "ipython",
    "version": 3
   },
   "file_extension": ".py",
   "mimetype": "text/x-python",
   "name": "python",
   "nbconvert_exporter": "python",
   "pygments_lexer": "ipython3",
   "version": "3.7.6"
  }
 },
 "nbformat": 4,
 "nbformat_minor": 4
}
