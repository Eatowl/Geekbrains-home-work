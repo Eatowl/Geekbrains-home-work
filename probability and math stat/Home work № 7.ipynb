{
 "cells": [
  {
   "cell_type": "code",
   "execution_count": 1,
   "metadata": {},
   "outputs": [],
   "source": [
    "# №1 Даны значения величины заработной платы заемщиков банка (zp) и значения их поведенческого кредитного \n",
    "# скоринга (ks): zp = [35, 45, 190, 200, 40, 70, 54, 150, 120, 110], \n",
    "# ks = [401, 574, 874, 919, 459, 739, 653, 902, 746, 832]. Используя математические операции, \n",
    "# посчитать коэффициенты линейной регрессии, приняв за X заработную плату (то есть, zp - признак), \n",
    "# а за y - значения скорингового балла (то есть, ks - целевая переменная). \n",
    "# Произвести расчет как с использованием intercept, так и без."
   ]
  },
  {
   "cell_type": "code",
   "execution_count": 2,
   "metadata": {},
   "outputs": [
    {
     "data": {
      "text/plain": [
       "(444.1773573243596, 2.620538882402765)"
      ]
     },
     "execution_count": 2,
     "metadata": {},
     "output_type": "execute_result"
    }
   ],
   "source": [
    "import numpy as np\n",
    "import matplotlib.pyplot as plt\n",
    "\n",
    "zp = np.array([35, 45, 190, 200, 40, 70, 54, 150, 120, 110])\n",
    "ks = np.array([401, 574, 874, 919, 459, 739, 653, 902, 746, 832])\n",
    "\n",
    "b = (np.mean(zp * ks) - np.mean(zp) * np.mean(ks)) / (np.mean(zp**2) - np.mean(zp)**2)\n",
    "a = np.mean(ks) - b * np.mean(zp)\n",
    "\n",
    "a, b"
   ]
  },
  {
   "cell_type": "code",
   "execution_count": 3,
   "metadata": {},
   "outputs": [],
   "source": [
    "# матричный метод, без intercept"
   ]
  },
  {
   "cell_type": "code",
   "execution_count": 4,
   "metadata": {},
   "outputs": [
    {
     "data": {
      "text/plain": [
       "array([[5.88982042]])"
      ]
     },
     "execution_count": 4,
     "metadata": {},
     "output_type": "execute_result"
    }
   ],
   "source": [
    "zp_mat = zp.reshape(len(zp), 1)\n",
    "ks_mat = ks.reshape(len(ks), 1)\n",
    "\n",
    "B = np.dot(np.linalg.inv(np.dot(zp_mat.T,zp_mat)), zp_mat.T@ks_mat)\n",
    "B"
   ]
  },
  {
   "cell_type": "code",
   "execution_count": 5,
   "metadata": {},
   "outputs": [],
   "source": [
    "# матричный метод с intercept"
   ]
  },
  {
   "cell_type": "code",
   "execution_count": 6,
   "metadata": {},
   "outputs": [
    {
     "data": {
      "text/plain": [
       "array([[444.17735732],\n",
       "       [  2.62053888]])"
      ]
     },
     "execution_count": 6,
     "metadata": {},
     "output_type": "execute_result"
    }
   ],
   "source": [
    "zp_mat = zp.reshape(len(zp), 1)\n",
    "ks_mat = ks.reshape(len(ks), 1)\n",
    "\n",
    "zp_mat = np.hstack([np.ones((len(zp_mat), 1)), zp_mat])\n",
    "\n",
    "B = np.dot(np.linalg.inv(np.dot(zp_mat.T,zp_mat)), zp_mat.T@ks_mat)\n",
    "B"
   ]
  },
  {
   "cell_type": "code",
   "execution_count": 7,
   "metadata": {},
   "outputs": [],
   "source": [
    "# №2 Посчитать коэффициент линейной регрессии при заработной плате (zp), используя градиентный спуск (без intercept)."
   ]
  },
  {
   "cell_type": "code",
   "execution_count": 8,
   "metadata": {},
   "outputs": [
    {
     "name": "stdout",
     "output_type": "stream",
     "text": [
      "Iter = 0, B1 = 0.25952808, mse = 493237.7212546963\n",
      "Iter = 200, B1 = 5.868748638669329, mse = 56522.97550129376\n",
      "Iter = 400, B1 = 5.8897415574471985, mse = 56516.85850140053\n",
      "Iter = 600, B1 = 5.889820124983314, mse = 56516.85841572062\n",
      "Iter = 800, B1 = 5.88982041902807, mse = 56516.8584157194\n",
      "Iter = 1000, B1 = 5.8898204201285544, mse = 56516.85841571941\n"
     ]
    }
   ],
   "source": [
    "n = len(zp)\n",
    "\n",
    "def mse_(B1, y=ks, x=zp, n=n):\n",
    "    return np.sum((B1*x-y)**2)/n\n",
    "\n",
    "alpha = 1e-6\n",
    "B0 = 0.1\n",
    "B1 = 0.1\n",
    "\n",
    "for i in range(1200):\n",
    "    B1 -= alpha*(2/n)*np.sum((B1*zp-ks)*zp)\n",
    "    if i%200 == 0:\n",
    "        print(\"Iter = {}, B1 = {}, mse = {}\".format(i, B1, mse_(B1)))\n",
    "    \n"
   ]
  },
  {
   "cell_type": "code",
   "execution_count": 9,
   "metadata": {},
   "outputs": [],
   "source": [
    "# №3 В каких случаях для вычисления доверительных интервалов и проверки статистических гипотез используется \n",
    "# таблица значений функции Лапласа, а в каких - таблица критических точек распределения Стьюдента? "
   ]
  },
  {
   "cell_type": "code",
   "execution_count": 10,
   "metadata": {},
   "outputs": [],
   "source": [
    "# На сколько я понял вопрос сводится к тому, какой критерий используем. Если нам известна сигма, то используем\n",
    "# критерий Z, применяем таблицу Лапласа, если сигма не известна, то используется T критерий \n",
    "# и применяем таблицу Стьюдента. Надеюсь я ничего не напутал. =)"
   ]
  },
  {
   "cell_type": "code",
   "execution_count": 11,
   "metadata": {},
   "outputs": [],
   "source": [
    "# №4 Произвести вычисления как в пункте 2, но с вычислением intercept. Учесть, что изменение коэффициентов \n",
    "# должно производиться на каждом шаге одновременно (то есть изменение одного коэффициента не должно влиять на \n",
    "# изменение другого во время одной итерации)."
   ]
  },
  {
   "cell_type": "code",
   "execution_count": 12,
   "metadata": {},
   "outputs": [
    {
     "name": "stdout",
     "output_type": "stream",
     "text": [
      "Iter = 0, B0 = 0.10699660000000001, B1 = 0.8975390000000001, mse = 399736.8945969929\n",
      "Iter = 800000, B0 = 385.81399328665054, B1 = 3.0501190456458045, mse = 7334.46848563315\n",
      "Iter = 1600000, B0 = 436.5061313453143, B1 = 2.6770024972523716, mse = 6485.3417997543675\n",
      "Iter = 2400000, B0 = 443.16905855694154, B1 = 2.6279604071254554, mse = 6470.67209376895\n",
      "Iter = 3200000, B0 = 444.0448274774709, B1 = 2.6215143606706777, mse = 6470.418656587813\n",
      "Iter = 4000000, B0 = 444.1599377252471, B1 = 2.6206670983538807, mse = 6470.414278149355\n"
     ]
    }
   ],
   "source": [
    "B0 = 0.1\n",
    "B1 = 0.1\n",
    "alpha = 5e-6\n",
    "\n",
    "def mse_(B0, B1, y=ks, x=zp, n=n):\n",
    "    return np.sum((B0+B1*x-y)**2)/n\n",
    "\n",
    "for i in range(4800000):\n",
    "    y_head = B0+B1*zp\n",
    "    B0 -= alpha*(2/n)*np.sum((y_head-ks))\n",
    "    B1 -= alpha*(2/n)*np.sum((y_head-ks)*zp)\n",
    "    if i%800000 == 0:\n",
    "        print(\"Iter = {}, B0 = {}, B1 = {}, mse = {}\".format(i, B0, B1, mse_(B0, B1)))"
   ]
  },
  {
   "cell_type": "code",
   "execution_count": null,
   "metadata": {},
   "outputs": [],
   "source": []
  }
 ],
 "metadata": {
  "kernelspec": {
   "display_name": "Python 3",
   "language": "python",
   "name": "python3"
  },
  "language_info": {
   "codemirror_mode": {
    "name": "ipython",
    "version": 3
   },
   "file_extension": ".py",
   "mimetype": "text/x-python",
   "name": "python",
   "nbconvert_exporter": "python",
   "pygments_lexer": "ipython3",
   "version": "3.7.6"
  }
 },
 "nbformat": 4,
 "nbformat_minor": 4
}
