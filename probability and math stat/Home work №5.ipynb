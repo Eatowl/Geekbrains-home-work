{
 "cells": [
  {
   "cell_type": "code",
   "execution_count": 1,
   "metadata": {},
   "outputs": [],
   "source": [
    "# №1 Известно, что генеральная совокупность распределена нормально со средним квадратическим отклонением, \n",
    "# равным 16. Найти доверительный интервал для оценки математического ожидания a с надежностью 0.95, \n",
    "# если выборочная средняя M = 80, а объем выборки n = 256."
   ]
  },
  {
   "cell_type": "code",
   "execution_count": 2,
   "metadata": {},
   "outputs": [
    {
     "data": {
      "text/plain": [
       "[78.04, 81.96]"
      ]
     },
     "execution_count": 2,
     "metadata": {},
     "output_type": "execute_result"
    }
   ],
   "source": [
    "import numpy as np\n",
    "\n",
    "M = 80\n",
    "n = 256\n",
    "sig = 16\n",
    "\n",
    "Z = 1.96 # таблица\n",
    "\n",
    "d1 = M + Z * sig / np.sqrt(n)\n",
    "d2 = M - Z * sig / np.sqrt(n)\n",
    "d_inter = [d2, d1]\n",
    "d_inter"
   ]
  },
  {
   "cell_type": "code",
   "execution_count": 3,
   "metadata": {},
   "outputs": [],
   "source": [
    "# №2 В результате 10 независимых измерений некоторой величины X, выполненных с одинаковой точностью, \n",
    "# получены опытные данные: 6.9, 6.1, 6.2, 6.8, 7.5, 6.3, 6.4, 6.9, 6.7, 6.1 \n",
    "# Предполагая, что результаты измерений подчинены нормальному закону распределения вероятностей, \n",
    "# оценить истинное значение величины X при помощи доверительного интервала, \n",
    "# покрывающего это значение с доверительной вероятностью 0,95."
   ]
  },
  {
   "cell_type": "code",
   "execution_count": 4,
   "metadata": {},
   "outputs": [
    {
     "data": {
      "text/plain": [
       "[6.267538255912426, 6.912461744087575]"
      ]
     },
     "execution_count": 4,
     "metadata": {},
     "output_type": "execute_result"
    }
   ],
   "source": [
    "X = np.array([6.9, 6.1, 6.2, 6.8, 7.5, 6.3, 6.4, 6.9, 6.7, 6.1])\n",
    "n = len(X)\n",
    "Tk = 2.262\n",
    "\n",
    "X.sort()\n",
    "M = X.sum() / n\n",
    "sig_n = np.sqrt(((X - M)**2).sum() / (n-1))\n",
    "\n",
    "d1 = M + Tk * sig_n / np.sqrt(n)\n",
    "d2 = M - Tk * sig_n / np.sqrt(n)\n",
    "d_inter = [d2, d1]\n",
    "d_inter"
   ]
  },
  {
   "cell_type": "code",
   "execution_count": 5,
   "metadata": {},
   "outputs": [],
   "source": [
    "# №3 Утверждается, что шарики для подшипников, изготовленные автоматическим станком, имеют средний диаметр 17 мм. \n",
    "# Используя односторонний критерий с α=0,05, проверить эту гипотезу, если в выборке из n=100 \n",
    "# шариков средний диаметр оказался равным 17.5 мм, а дисперсия известна и равна 4 кв.мм."
   ]
  },
  {
   "cell_type": "code",
   "execution_count": 6,
   "metadata": {},
   "outputs": [
    {
     "data": {
      "text/plain": [
       "2.5"
      ]
     },
     "execution_count": 6,
     "metadata": {},
     "output_type": "execute_result"
    }
   ],
   "source": [
    "X = 17.5\n",
    "mu = 17\n",
    "a = 0.05\n",
    "n = 100\n",
    "dis = 4\n",
    "\n",
    "Zn = (X - mu) / (np.sqrt(dis) / np.sqrt(n))\n",
    "Z = 1.645 # при a = 0.05 \n",
    "# H1 верна при a = 0.05\n",
    "Zn"
   ]
  },
  {
   "cell_type": "code",
   "execution_count": 7,
   "metadata": {},
   "outputs": [],
   "source": [
    "# №4 Продавец утверждает, что средний вес пачки печенья составляет 200 г. Из партии извлечена выборка из 10 пачек. \n",
    "# Вес каждой пачки составляет: 202, 203, 199, 197, 195, 201, 200, 204, 194, 190. \n",
    "# Известно, что их веса распределены нормально. Верно ли утверждение продавца, если учитывать, \n",
    "# что доверительная вероятность равна 99%?"
   ]
  },
  {
   "cell_type": "code",
   "execution_count": 8,
   "metadata": {},
   "outputs": [
    {
     "data": {
      "text/plain": [
       "-1.0651074037450896"
      ]
     },
     "execution_count": 8,
     "metadata": {},
     "output_type": "execute_result"
    }
   ],
   "source": [
    "consignment = np.array([202, 203, 199, 197, 195, 201, 200, 204, 194, 190])\n",
    "n = len(consignment)\n",
    "mu0 = 200\n",
    "\n",
    "M = consignment.sum() / n\n",
    "sig_n = np.sqrt(((consignment - M)**2).sum() / (n-1))\n",
    "\n",
    "Tn = (M - mu0) / (sig_n / np.sqrt(n))\n",
    "# H0 верна при a = 1%, так как попадает в интервал [-3.25, 3,25]\n",
    "Tn"
   ]
  },
  {
   "cell_type": "code",
   "execution_count": null,
   "metadata": {},
   "outputs": [],
   "source": []
  }
 ],
 "metadata": {
  "kernelspec": {
   "display_name": "Python 3",
   "language": "python",
   "name": "python3"
  },
  "language_info": {
   "codemirror_mode": {
    "name": "ipython",
    "version": 3
   },
   "file_extension": ".py",
   "mimetype": "text/x-python",
   "name": "python",
   "nbconvert_exporter": "python",
   "pygments_lexer": "ipython3",
   "version": "3.7.6"
  }
 },
 "nbformat": 4,
 "nbformat_minor": 4
}
